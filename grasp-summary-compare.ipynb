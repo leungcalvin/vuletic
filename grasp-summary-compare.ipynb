{
 "cells": [
  {
   "cell_type": "code",
   "execution_count": 1,
   "metadata": {},
   "outputs": [
    {
     "name": "stdout",
     "output_type": "stream",
     "text": [
      "Automatic pdb calling has been turned OFF\n"
     ]
    }
   ],
   "source": [
    "%pdb off\n",
    "import os,io\n",
    "import numpy as np\n",
    "import pandas as pd\n",
    "import matplotlib.pyplot as plt\n",
    "def readGrant():\n",
    "    data = pd.read_excel('/home/calvin/Documents/vuletic/grasp2K_v1_1/manual/grant/6s2-levels.xlsx',header=0)\n",
    "    return dict(zip(data['Subshell'],data['e']))\n",
    "\n",
    "def readGrasp(filename = 'grasp399.sum', nskip = 31, n_orbs = 29, graspdir = '/home/calvin/Documents/vuletic/2fdf8180c6ee229ae52c44f09cbcf802bde17eccgrasp2K_v1_1/manual/example5test'):\n",
    "    \n",
    "\n",
    "    data = pd.read_csv(os.path.join(graspdir,filename),skiprows = nskip,nrows= n_orbs,delim_whitespace=True)\n",
    "    data['e'] = [float(energy.replace('D','E',1)) for energy in data['e']]\n",
    "    #return data['Subshell'].values,data['e'].values\n",
    "    return dict(zip(data['Subshell'],data['e']))\n",
    "\n"
   ]
  },
  {
   "cell_type": "code",
   "execution_count": 7,
   "metadata": {},
   "outputs": [
    {
     "data": {
      "text/html": [
       "<div>\n",
       "<style scoped>\n",
       "    .dataframe tbody tr th:only-of-type {\n",
       "        vertical-align: middle;\n",
       "    }\n",
       "\n",
       "    .dataframe tbody tr th {\n",
       "        vertical-align: top;\n",
       "    }\n",
       "\n",
       "    .dataframe thead th {\n",
       "        text-align: right;\n",
       "    }\n",
       "</style>\n",
       "<table border=\"1\" class=\"dataframe\">\n",
       "  <thead>\n",
       "    <tr style=\"text-align: right;\">\n",
       "      <th></th>\n",
       "      <th>Subshell      e             p0     gamma     P(2)       Q(2)   Consistency MTP</th>\n",
       "    </tr>\n",
       "  </thead>\n",
       "  <tbody>\n",
       "    <tr>\n",
       "      <th>0</th>\n",
       "      <td>1s   2.2676481306D+03  2.334D+03  1.00  3.41...</td>\n",
       "    </tr>\n",
       "    <tr>\n",
       "      <th>1</th>\n",
       "      <td>2s   3.8888882241D+02  8.677D+02  1.00  1.27...</td>\n",
       "    </tr>\n",
       "    <tr>\n",
       "      <th>2</th>\n",
       "      <td>2p-  3.7005142312D+02  5.091D+01  1.00  1.38...</td>\n",
       "    </tr>\n",
       "    <tr>\n",
       "      <th>3</th>\n",
       "      <td>2p   3.3148360915D+02  1.138D+04  2.00  2.44...</td>\n",
       "    </tr>\n",
       "    <tr>\n",
       "      <th>4</th>\n",
       "      <td>3s   8.9705858324D+01  4.084D+02  1.00  5.98...</td>\n",
       "    </tr>\n",
       "    <tr>\n",
       "      <th>5</th>\n",
       "      <td>3p-  8.1418571053D+01  2.530D+01  1.00  6.88...</td>\n",
       "    </tr>\n",
       "    <tr>\n",
       "      <th>6</th>\n",
       "      <td>3p   7.3090319939D+01  5.787D+03  2.00  1.24...</td>\n",
       "    </tr>\n",
       "    <tr>\n",
       "      <th>7</th>\n",
       "      <td>3d-  5.9188260225D+01  5.559D+01  2.00  4.43...</td>\n",
       "    </tr>\n",
       "    <tr>\n",
       "      <th>8</th>\n",
       "      <td>3d   5.7386924892D+01  2.005D+04  3.00  6.30...</td>\n",
       "    </tr>\n",
       "    <tr>\n",
       "      <th>9</th>\n",
       "      <td>4s   1.8668916592D+01  1.982D+02  1.00  2.90...</td>\n",
       "    </tr>\n",
       "  </tbody>\n",
       "</table>\n",
       "</div>"
      ],
      "text/plain": [
       "  Subshell      e             p0     gamma     P(2)       Q(2)   Consistency MTP\n",
       "0    1s   2.2676481306D+03  2.334D+03  1.00  3.41...                            \n",
       "1    2s   3.8888882241D+02  8.677D+02  1.00  1.27...                            \n",
       "2    2p-  3.7005142312D+02  5.091D+01  1.00  1.38...                            \n",
       "3    2p   3.3148360915D+02  1.138D+04  2.00  2.44...                            \n",
       "4    3s   8.9705858324D+01  4.084D+02  1.00  5.98...                            \n",
       "5    3p-  8.1418571053D+01  2.530D+01  1.00  6.88...                            \n",
       "6    3p   7.3090319939D+01  5.787D+03  2.00  1.24...                            \n",
       "7    3d-  5.9188260225D+01  5.559D+01  2.00  4.43...                            \n",
       "8    3d   5.7386924892D+01  2.005D+04  3.00  6.30...                            \n",
       "9    4s   1.8668916592D+01  1.982D+02  1.00  2.90...                            "
      ]
     },
     "execution_count": 7,
     "metadata": {},
     "output_type": "execute_result"
    }
   ],
   "source": [
    "pd.read_csv(os.path.join('/home/calvin/Documents/vuletic/172Yb/172Yb','1S0.sum'),skiprows=29,nrows=10)"
   ]
  },
  {
   "cell_type": "code",
   "execution_count": 19,
   "metadata": {},
   "outputs": [],
   "source": [
    "def compare(test,master):\n",
    "    frac = {}\n",
    "    for key in master.keys():\n",
    "        try:\n",
    "            frac[key] = (test[key] - master[key]) / np.abs(master[key])\n",
    "        except KeyError:\n",
    "            frac[key] = 0\n",
    "    return frac\n",
    "def compareDelta(test,master):\n",
    "    delta = {}\n",
    "    for key in master.keys():\n",
    "        try:\n",
    "            delta[key] = test[key] - master[key]\n",
    "        except KeyError:\n",
    "            delta[key] = 0\n",
    "    return delta\n",
    "\n",
    "def plotCompare(D):\n",
    "    # sort first by abs value\n",
    "    keys = np.array(list(D.keys()))\n",
    "    vals = np.array(list(D.values()))\n",
    "    args = np.argsort(np.abs(vals))\n",
    "    color = ['b' if np.sign(val) > 0 else 'r' for val in vals]\n",
    "    plt.barh(range(len(D)), np.abs(vals[args]), align='center',color=color)\n",
    "    plt.yticks(range(len(D)), keys[args])\n",
    "    plt.xscale('log')\n",
    "    plt.xlim([1e-8,1])\n",
    "    plt.xlabel('Fractional error')\n",
    "grant = readGrant()"
   ]
  },
  {
   "cell_type": "code",
   "execution_count": 20,
   "metadata": {
    "scrolled": true
   },
   "outputs": [
    {
     "data": {
      "text/plain": [
       "Text(0.5, 1.0, '/home/calvin/Documents/vuletic/172Yb/172Yb/1S0.sum textbook comparison')"
      ]
     },
     "execution_count": 20,
     "metadata": {},
     "output_type": "execute_result"
    },
    {
     "data": {
      "image/png": "[encoded data removed]",
      "text/plain": [
       "<Figure size 432x288 with 1 Axes>"
      ]
     },
     "metadata": {
      "needs_background": "light"
     },
     "output_type": "display_data"
    }
   ],
   "source": [
    "#plt.subplots(nrows=2,ncols=1,sharex=True,figsize=(15,15))\n",
    "\n",
    "#plt.subplot(211)\n",
    "graspdir = '/home/calvin/Documents/vuletic/172Yb/172Yb'\n",
    "sumName = '1S0.sum'\n",
    "master = readGrasp(sumName,graspdir = graspdir,nskip=29, n_orbs = 26)\n",
    "frac1 = compareDelta(master,grant)\n",
    "plotCompare(frac1) \n",
    "plt.title(os.path.join(graspdir,sumName) + ' textbook comparison')\n",
    "\n",
    "#plt.subplot(212)\n",
    "#readout = readGrasp('readout.sum',nskip=31)\n",
    "#frac2 = compareDelta(readout,grant)\n",
    "#plt.title('readout.sum (Test Run)')\n",
    "\n",
    "#shell = '6s'\n",
    "#print(master[shell],readout[shell])\n",
    "#print('book:',grant[shell])\n",
    "#plotCompare(frac2)\n"
   ]
  },
  {
   "cell_type": "code",
   "execution_count": null,
   "metadata": {},
   "outputs": [],
   "source": [
    "readout = readGrasp('readout.sum')\n",
    "readout\n"
   ]
  },
  {
   "cell_type": "code",
   "execution_count": null,
   "metadata": {},
   "outputs": [],
   "source": [
    "graspreadout['1s']"
   ]
  },
  {
   "cell_type": "code",
   "execution_count": null,
   "metadata": {},
   "outputs": [],
   "source": [
    "grant['1s']"
   ]
  },
  {
   "cell_type": "code",
   "execution_count": null,
   "metadata": {},
   "outputs": [],
   "source": []
  },
  {
   "cell_type": "code",
   "execution_count": null,
   "metadata": {},
   "outputs": [],
   "source": []
  },
  {
   "cell_type": "code",
   "execution_count": null,
   "metadata": {},
   "outputs": [],
   "source": []
  }
 ],
 "metadata": {
  "kernelspec": {
   "display_name": "Python 3",
   "language": "python",
   "name": "python3"
  },
  "language_info": {
   "codemirror_mode": {
    "name": "ipython",
    "version": 3
   },
   "file_extension": ".py",
   "mimetype": "text/x-python",
   "name": "python",
   "nbconvert_exporter": "python",
   "pygments_lexer": "ipython3",
   "version": "3.7.3"
  }
 },
 "nbformat": 4,
 "nbformat_minor": 2
}
