{
 "cells": [
  {
   "cell_type": "code",
   "execution_count": 1,
   "metadata": {
    "collapsed": false
   },
   "outputs": [
    {
     "name": "stdout",
     "output_type": "stream",
     "text": [
      "Automatic pdb calling has been turned OFF\n"
     ]
    }
   ],
   "source": [
    "%pdb off\n",
    "import os,io\n",
    "import numpy as np\n",
    "import pandas as pd\n",
    "import matplotlib.pyplot as plt\n",
    "def readGrant():\n",
    "    data = pd.read_excel('/home/calvin/Documents/vuletic/grasp2K_v1_1/manual/grant/6s2-levels.xlsx',header=0)\n",
    "    return dict(zip(data['Subshell'],data['e']))\n",
    "\n",
    "def readGrasp(filename = 'grasp399.sum', nskip = 31,graspdir = '/home/calvin/Documents/vuletic/grasp2K_v1_1/manual/example5test'):\n",
    "    \n",
    "\n",
    "    data = pd.read_csv(os.path.join(graspdir,filename),skiprows = nskip,nrows=30,delim_whitespace=True)\n",
    "    data['e'] = [float(energy.replace('D','E',1)) for energy in data['e']]\n",
    "    #return data['Subshell'].values,data['e'].values\n",
    "    return dict(zip(data['Subshell'],data['e']))\n",
    "\n"
   ]
  },
  {
   "cell_type": "code",
   "execution_count": 2,
   "metadata": {
    "collapsed": false
   },
   "outputs": [],
   "source": [
    "def compare(test,master):\n",
    "    frac = {}\n",
    "    for key in master.keys():\n",
    "        try:\n",
    "            frac[key] = (test[key] - master[key]) / np.abs(master[key])\n",
    "        except KeyError:\n",
    "            frac[key] = 0\n",
    "    return frac\n",
    "def compareDelta(test,master):\n",
    "    delta = {}\n",
    "    for key in master.keys():\n",
    "        try:\n",
    "            delta[key] = test[key] - master[key]\n",
    "        except KeyError:\n",
    "            delta[key] = 0\n",
    "    return delta\n",
    "\n",
    "def plotCompare(D):\n",
    "    # sort first by abs value\n",
    "    keys = np.array(list(D.keys()))\n",
    "    vals = np.array(list(D.values()))\n",
    "    args = np.argsort(np.abs(vals))\n",
    "    color = ['b' if np.sign(val) > 0 else 'r' for val in vals]\n",
    "    plt.barh(range(len(D)), np.abs(vals[args]), align='center',color=color)\n",
    "    plt.yticks(range(len(D)), keys[args])\n",
    "    plt.xscale('log')\n",
    "    plt.xlim([1e-8,1])\n",
    "grant = readGrant()"
   ]
  },
  {
   "cell_type": "code",
   "execution_count": 3,
   "metadata": {
    "collapsed": false,
    "scrolled": true
   },
   "outputs": [
    {
     "name": "stdout",
     "output_type": "stream",
     "text": [
      "0.20441539928 0.18813049513\n",
      "book: 0.19652\n"
     ]
    },
    {
     "data": {
      "image/png": "[encoded data removed]",
      "text/plain": [
       "<matplotlib.figure.Figure at 0x7fcf61a96b70>"
      ]
     },
     "metadata": {},
     "output_type": "display_data"
    }
   ],
   "source": [
    "plt.subplots(nrows=2,ncols=1,sharex=True,figsize=(15,15))\n",
    "\n",
    "plt.subplot(211)\n",
    "master = readGrasp('master.sum',graspdir = '/home/calvin/Documents/vuletic/grasp2K_v1_1/manual/6s2/',nskip=29)\n",
    "frac1 = compareDelta(master,grant)\n",
    "plotCompare(frac1)\n",
    "plt.title('master.sum (Master Calculation)')\n",
    "\n",
    "plt.subplot(212)\n",
    "readout = readGrasp('readout.sum',nskip=31)\n",
    "frac2 = compareDelta(readout,grant)\n",
    "plt.title('readout.sum (Test Run)')\n",
    "\n",
    "shell = '6s'\n",
    "print(master[shell],readout[shell])\n",
    "print('book:',grant[shell])\n",
    "plotCompare(frac2)\n",
    "plt.show()"
   ]
  },
  {
   "cell_type": "code",
   "execution_count": 4,
   "metadata": {
    "collapsed": false
   },
   "outputs": [
    {
     "data": {
      "text/plain": [
       "{'1s': 2267.8130667999999,\n",
       " '2p': 331.64451957,\n",
       " '2p-': 370.21239742,\n",
       " '2s': 389.04942477999998,\n",
       " '3d': 57.548112535999998,\n",
       " '3d-': 59.349471727999997,\n",
       " '3p': 73.251247186000001,\n",
       " '3p-': 81.579500334000002,\n",
       " '3s': 89.866233308000005,\n",
       " '4d': 7.5781026413000001,\n",
       " '4d-': 7.9341996117000004,\n",
       " '4f': 0.6343337335,\n",
       " '4f-': 0.69353251265000004,\n",
       " '4p': 13.529572219,\n",
       " '4p-': 15.431486652,\n",
       " '4s': 18.827561484,\n",
       " '5d': 0.15088908743000001,\n",
       " '5d-': 0.15164240039999999,\n",
       " '5f': 0.68723051917,\n",
       " '5f-': 0.69210568525000005,\n",
       " '5p': 1.2120953860999999,\n",
       " '5p-': 1.4481309275000001,\n",
       " '5s': 2.4600068687999999,\n",
       " '6d': 0.055555966448000003,\n",
       " '6d-': 0.055556295175999998,\n",
       " '6f': 0.055555802089000003,\n",
       " '6f-': 0.055555966448000003,\n",
       " '6p': 0.095311166890999999,\n",
       " '6p-': 0.092117427311000005,\n",
       " '6s': 0.18813049512999999}"
      ]
     },
     "execution_count": 4,
     "metadata": {},
     "output_type": "execute_result"
    }
   ],
   "source": [
    "readout = readGrasp('readout.sum')\n",
    "readout\n"
   ]
  },
  {
   "cell_type": "code",
   "execution_count": 5,
   "metadata": {
    "collapsed": false
   },
   "outputs": [
    {
     "ename": "NameError",
     "evalue": "name 'graspreadout' is not defined",
     "output_type": "error",
     "traceback": [
      "\u001b[0;31m---------------------------------------------------------------------------\u001b[0m",
      "\u001b[0;31mNameError\u001b[0m                                 Traceback (most recent call last)",
      "\u001b[0;32m<ipython-input-5-c3b7dd7d7657>\u001b[0m in \u001b[0;36m<module>\u001b[0;34m()\u001b[0m\n\u001b[0;32m----> 1\u001b[0;31m \u001b[0mgraspreadout\u001b[0m\u001b[0;34m[\u001b[0m\u001b[0;34m'1s'\u001b[0m\u001b[0;34m]\u001b[0m\u001b[0;34m\u001b[0m\u001b[0m\n\u001b[0m",
      "\u001b[0;31mNameError\u001b[0m: name 'graspreadout' is not defined"
     ]
    }
   ],
   "source": [
    "graspreadout['1s']"
   ]
  },
  {
   "cell_type": "code",
   "execution_count": null,
   "metadata": {
    "collapsed": false
   },
   "outputs": [],
   "source": [
    "grant['1s']"
   ]
  },
  {
   "cell_type": "code",
   "execution_count": null,
   "metadata": {
    "collapsed": false
   },
   "outputs": [],
   "source": []
  },
  {
   "cell_type": "code",
   "execution_count": null,
   "metadata": {
    "collapsed": true
   },
   "outputs": [],
   "source": []
  },
  {
   "cell_type": "code",
   "execution_count": null,
   "metadata": {
    "collapsed": true
   },
   "outputs": [],
   "source": []
  }
 ],
 "metadata": {
  "kernelspec": {
   "display_name": "Python 3",
   "language": "python",
   "name": "python3"
  },
  "language_info": {
   "codemirror_mode": {
    "name": "ipython",
    "version": 3
   },
   "file_extension": ".py",
   "mimetype": "text/x-python",
   "name": "python",
   "nbconvert_exporter": "python",
   "pygments_lexer": "ipython3",
   "version": "3.5.2"
  }
 },
 "nbformat": 4,
 "nbformat_minor": 2
}
